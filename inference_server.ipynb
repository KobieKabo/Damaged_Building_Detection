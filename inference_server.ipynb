{
 "cells": [
  {
   "cell_type": "code",
   "execution_count": 87,
   "id": "7ba557ce-154c-4b52-85f7-1b1187883bfc",
   "metadata": {},
   "outputs": [
    {
     "name": "stdout",
     "output_type": "stream",
     "text": [
      "Found 17057 files belonging to 2 classes.\n",
      "Using 13646 files for training.\n",
      "Using 3411 files for validation.\n"
     ]
    }
   ],
   "source": [
    "import tensorflow as tf\n",
    "import tensorflow_datasets as tfds\n",
    "from keras import layers, models, optimizers\n",
    "from tensorflow.keras.layers.experimental.preprocessing import Rescaling\n",
    "# Now that we know the image dimensions\n",
    "train_data_dir = '../data/project3/data_all_modified/data_split/train'\n",
    "# Number of images we want to process at once\n",
    "batch_size = 64\n",
    "\n",
    "# Target image size (128 px by 128 px)\n",
    "img_height = 128\n",
    "img_width = 128\n",
    "train_ds, val_ds = tf.keras.utils.image_dataset_from_directory(\n",
    "train_data_dir,\n",
    "validation_split=0.2,\n",
    "subset=\"both\",\n",
    "seed=123,\n",
    "image_size=(img_height, img_width),\n",
    "batch_size=batch_size\n",
    ")\n",
    "rescale = Rescaling(scale=1.0/255)\n",
    "train_rescale_ds = train_ds.map(lambda image,label:(rescale(image),label))\n",
    "val_rescale_ds = val_ds.map(lambda image,label:(rescale(image),label))"
   ]
  },
  {
   "cell_type": "code",
   "execution_count": 88,
   "id": "a96e8a9e-18c5-42fa-8473-0d90ab0692b3",
   "metadata": {},
   "outputs": [
    {
     "name": "stdout",
     "output_type": "stream",
     "text": [
      "Found 4265 files belonging to 2 classes.\n"
     ]
    }
   ],
   "source": [
    "test_data_dir = '../data/project3/data_all_modified/data_split/test'\n",
    "\n",
    "batch_size = 1\n",
    "\n",
    "img_height = 128\n",
    "img_width = 128\n",
    "\n",
    "# note that subset=\"training\", \"validation\", \"both\", and dictates what is returned\n",
    "test_ds = tf.keras.utils.image_dataset_from_directory(\n",
    "test_data_dir,\n",
    "seed=123,\n",
    "image_size=(img_height, img_width),\n",
    ")\n",
    "\n",
    "rescale = Rescaling(scale=1.0/255)\n",
    "test_rescale_ds = test_ds.map(lambda image,label:(rescale(image),label))"
   ]
  },
  {
   "cell_type": "code",
   "execution_count": 89,
   "id": "a08ef755-0dbe-4f2f-be68-a50261015c24",
   "metadata": {},
   "outputs": [
    {
     "name": "stdout",
     "output_type": "stream",
     "text": [
      "Model: \"sequential_9\"\n",
      "_________________________________________________________________\n",
      " Layer (type)                Output Shape              Param #   \n",
      "=================================================================\n",
      " conv2d_45 (Conv2D)          (None, 126, 126, 6)       168       \n",
      "                                                                 \n",
      " max_pooling2d_45 (MaxPooli  (None, 63, 63, 6)         0         \n",
      " ng2D)                                                           \n",
      "                                                                 \n",
      " conv2d_46 (Conv2D)          (None, 61, 61, 32)        1760      \n",
      "                                                                 \n",
      " max_pooling2d_46 (MaxPooli  (None, 30, 30, 32)        0         \n",
      " ng2D)                                                           \n",
      "                                                                 \n",
      " conv2d_47 (Conv2D)          (None, 28, 28, 64)        18496     \n",
      "                                                                 \n",
      " max_pooling2d_47 (MaxPooli  (None, 14, 14, 64)        0         \n",
      " ng2D)                                                           \n",
      "                                                                 \n",
      " conv2d_48 (Conv2D)          (None, 12, 12, 128)       73856     \n",
      "                                                                 \n",
      " max_pooling2d_48 (MaxPooli  (None, 6, 6, 128)         0         \n",
      " ng2D)                                                           \n",
      "                                                                 \n",
      " conv2d_49 (Conv2D)          (None, 4, 4, 128)         147584    \n",
      "                                                                 \n",
      " max_pooling2d_49 (MaxPooli  (None, 2, 2, 128)         0         \n",
      " ng2D)                                                           \n",
      "                                                                 \n",
      " flatten_9 (Flatten)         (None, 512)               0         \n",
      "                                                                 \n",
      " dropout_9 (Dropout)         (None, 512)               0         \n",
      "                                                                 \n",
      " dense_18 (Dense)            (None, 512)               262656    \n",
      "                                                                 \n",
      " dense_19 (Dense)            (None, 2)                 1026      \n",
      "                                                                 \n",
      "=================================================================\n",
      "Total params: 505546 (1.93 MB)\n",
      "Trainable params: 505546 (1.93 MB)\n",
      "Non-trainable params: 0 (0.00 Byte)\n",
      "_________________________________________________________________\n"
     ]
    }
   ],
   "source": [
    "from keras import layers\n",
    "from keras import models\n",
    "import pandas as pd\n",
    "\n",
    "model_mod_lenet5 = models.Sequential()\n",
    "# Layer 1: Convolutional layer with 6 filters of size 3x3, followed by Max pooling\n",
    "model_mod_lenet5.add(layers.Conv2D(6, kernel_size=(3, 3), activation='relu', input_shape=(img_height,img_width,3)))\n",
    "model_mod_lenet5.add(layers.MaxPooling2D(pool_size=(2, 2)))\n",
    "# Layer 2: Convolutional layer with 32 filters of size 3x3, followed by Max pooling\n",
    "model_mod_lenet5.add(layers.Conv2D(32, kernel_size=(3, 3), activation='relu', input_shape=(img_height,img_width,3)))\n",
    "model_mod_lenet5.add(layers.MaxPooling2D(pool_size=(2, 2)))\n",
    "# Layer 3: Convolutional layer with 64 filters of size 3x3, followed by Max pooling\n",
    "model_mod_lenet5.add(layers.Conv2D(64, kernel_size=(3, 3), activation='relu', input_shape=(img_height,img_width,3)))\n",
    "model_mod_lenet5.add(layers.MaxPooling2D(pool_size=(2, 2)))\n",
    "# Layer 4: Convolutional layer with 128 filters of size 3x3, followed by Max pooling\n",
    "model_mod_lenet5.add(layers.Conv2D(128, kernel_size=(3, 3), activation='relu', input_shape=(img_height,img_width,3)))\n",
    "model_mod_lenet5.add(layers.MaxPooling2D(pool_size=(2, 2)))\n",
    "# Layer 5: Convolutional layer with 128 filters of size 3x3, followed by Max pooling\n",
    "model_mod_lenet5.add(layers.Conv2D(128, kernel_size=(3, 3), activation='relu', input_shape=(img_height,img_width,3)))\n",
    "model_mod_lenet5.add(layers.MaxPooling2D(pool_size=(2, 2)))\n",
    "# flattening the output of the conv layer after max pooling \n",
    "model_mod_lenet5.add(layers.Flatten())\n",
    "#Dropout Layer\n",
    "model_mod_lenet5.add(layers.Dropout(0.2))\n",
    "# Layer 8: Fully connected layer with 120 neurons\n",
    "model_mod_lenet5.add(layers.Dense(512, activation='relu'))\n",
    "\n",
    "model_mod_lenet5.add(layers.Dense(2, activation='sigmoid'))\n",
    "\n",
    "model_mod_lenet5.compile(optimizer=optimizers.RMSprop(learning_rate=1e-4), \n",
    "                     loss='sparse_categorical_crossentropy', \n",
    "                     metrics=['accuracy'])\n",
    "\n",
    "# Generating the summary of the model\n",
    "model_mod_lenet5.summary()"
   ]
  },
  {
   "cell_type": "code",
   "execution_count": 90,
   "id": "280c6ade-9c2e-4793-827c-99a80bf63d00",
   "metadata": {},
   "outputs": [],
   "source": [
    "import tensorflow as tf\n",
    "model = tf.keras.models.load_model('Mod_LeNet5.keras')"
   ]
  },
  {
   "cell_type": "code",
   "execution_count": 91,
   "id": "3a447c88-329d-404a-b55e-d55e0254bf49",
   "metadata": {},
   "outputs": [],
   "source": [
    "import requests"
   ]
  },
  {
   "cell_type": "code",
   "execution_count": 92,
   "id": "a064f44f-52ad-448a-89c6-8448f1ab5254",
   "metadata": {},
   "outputs": [],
   "source": [
    "iterator = iter(test_rescale_ds)\n",
    "import numpy as np\n",
    "from PIL import Image\n",
    "l = np.array(Image.open('../data/project3/data_all_modified/damage/-93.528502_30.987438.jpeg')).tolist()\n",
    "\n",
    "# make the POST request passing the single test case as the `image` field:\n",
    "rsp = requests.post(\"http://172.17.0.1:5000/proj_models/Mod_LeNet5/v1\", json={\"image\":l})"
   ]
  },
  {
   "cell_type": "code",
   "execution_count": 93,
   "id": "e3896869-c9ab-4201-a9e1-d602e76c5bd6",
   "metadata": {},
   "outputs": [
    {
     "data": {
      "text/plain": [
       "{'result': [[0.9861195087432861, 0.021355213597416878]]}"
      ]
     },
     "execution_count": 93,
     "metadata": {},
     "output_type": "execute_result"
    }
   ],
   "source": [
    "rsp.json()"
   ]
  }
 ],
 "metadata": {
  "kernelspec": {
   "display_name": "Python 3 (ipykernel)",
   "language": "python",
   "name": "python3"
  },
  "language_info": {
   "codemirror_mode": {
    "name": "ipython",
    "version": 3
   },
   "file_extension": ".py",
   "mimetype": "text/x-python",
   "name": "python",
   "nbconvert_exporter": "python",
   "pygments_lexer": "ipython3",
   "version": "3.11.1"
  }
 },
 "nbformat": 4,
 "nbformat_minor": 5
}
