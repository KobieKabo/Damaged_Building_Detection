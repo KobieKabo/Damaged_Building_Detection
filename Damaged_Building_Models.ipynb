{
 "cells": [
  {
   "cell_type": "markdown",
   "id": "90398a47-b79e-4b07-b24b-b4b3817ccee2",
   "metadata": {},
   "source": [
    "# Machine Learning Model Architecture"
   ]
  },
  {
   "cell_type": "markdown",
   "id": "7f95bdd3-3fb2-4d8a-894c-846359736613",
   "metadata": {},
   "source": [
    "## Construction of Test/Train datasets"
   ]
  },
  {
   "cell_type": "code",
   "execution_count": null,
   "id": "aba25ea3-b043-4fe3-890f-333d91190545",
   "metadata": {},
   "outputs": [],
   "source": [
    "import pandas as pd\n",
    "# Let's make sure these directories are clean before we start\n",
    "import shutil\n",
    "try:\n",
    "    shutil.rmtree(\"../data/project3/data_all_modified/data_split/train\")\n",
    "    shutil.rmtree(\"../data/project3/data_all_modified/data_split/test\")\n",
    "except:\n",
    "    pass"
   ]
  },
  {
   "cell_type": "code",
   "execution_count": 2,
   "id": "3f0a43b1-a99f-46d1-a3a9-4f0a5ddad469",
   "metadata": {},
   "outputs": [],
   "source": [
    "# We have two classes which contains all the data: Damage & No_damage\n",
    "# Let's create directories for each class in the train and test directories.\n",
    "import os\n",
    "# ensure directories exist\n",
    "from pathlib import Path\n",
    "\n",
    "Path(\"../data/project3/data_all_modified/data_split/test/damage\").mkdir(parents=True, exist_ok=True)\n",
    "Path(\"../data/project3/data_all_modified/data_split/test/no_damage\").mkdir(parents=True, exist_ok=True)\n",
    "\n",
    "Path(\"../data/project3/data_all_modified/data_split/train/damage\").mkdir(parents=True, exist_ok=True)\n",
    "Path(\"../data/project3/data_all_modified/data_split/train/no_damage\").mkdir(parents=True, exist_ok=True)"
   ]
  },
  {
   "cell_type": "code",
   "execution_count": 3,
   "id": "b29497d8-3b2f-409d-b9c7-58b409a1797f",
   "metadata": {},
   "outputs": [],
   "source": [
    "# we need paths of images for individual classes so we can copy them in the new directories that we created above\n",
    "all_damage_file_paths = os.listdir('../data/project3/data_all_modified/damage')\n",
    "all_no_damage_file_paths = os.listdir('../data/project3/data_all_modified/no_damage')"
   ]
  },
  {
   "cell_type": "code",
   "execution_count": 4,
   "id": "8175434d-c0e7-489c-927e-490c0fd9bbf2",
   "metadata": {},
   "outputs": [
    {
     "name": "stdout",
     "output_type": "stream",
     "text": [
      "train Damage image count:  11336\n",
      "test Damage image count:  2834\n",
      "len of overlap:  0\n",
      "train No Damage image count:  5721\n",
      "test No Damage image count:  1431\n",
      "len of overlap:  0\n"
     ]
    }
   ],
   "source": [
    "import random\n",
    "\n",
    "train_damage_paths = random.sample(all_damage_file_paths, int(len(all_damage_file_paths)*0.8))\n",
    "print(\"train Damage image count: \", len(train_damage_paths))\n",
    "test_damage_paths = [ p for p in all_damage_file_paths if p not in train_damage_paths]\n",
    "print(\"test Damage image count: \", len(test_damage_paths))\n",
    "# ensure no overlap:\n",
    "overlap = [p for p in train_damage_paths if p in test_damage_paths]\n",
    "print(\"len of overlap: \", len(overlap))\n",
    "\n",
    "train_no_damage_paths = random.sample(all_no_damage_file_paths, int(len(all_no_damage_file_paths)*0.8))\n",
    "print(\"train No Damage image count: \", len(train_no_damage_paths))\n",
    "test_no_damage_paths = [ p for p in all_no_damage_file_paths if p not in train_no_damage_paths]\n",
    "print(\"test No Damage image count: \", len(test_no_damage_paths))\n",
    "# ensure no overlap:\n",
    "overlap = [p for p in train_no_damage_paths if p in test_no_damage_paths]\n",
    "print(\"len of overlap: \", len(overlap))"
   ]
  },
  {
   "cell_type": "code",
   "execution_count": 5,
   "id": "cb8e4c0c-54d3-4763-9b43-50ab620a9001",
   "metadata": {},
   "outputs": [
    {
     "name": "stdout",
     "output_type": "stream",
     "text": [
      "Files in train/damage:  11336\n",
      "Files in train/no_damage:  2834\n",
      "Files in test/damage:  5721\n",
      "Files in test/no_damage:  1431\n"
     ]
    }
   ],
   "source": [
    "#ensure to copy the images to the directories\n",
    "import shutil\n",
    "for p in train_damage_paths:\n",
    "    shutil.copyfile(os.path.join('../data/project3/data_all_modified/damage', p), os.path.join(\"../data/project3/data_all_modified/data_split/train/damage\", p) )\n",
    "\n",
    "for p in test_damage_paths:\n",
    "    shutil.copyfile(os.path.join('../data/project3/data_all_modified/damage', p), os.path.join(\"../data/project3/data_all_modified/data_split/test/damage\", p) )\n",
    "\n",
    "for p in train_no_damage_paths:\n",
    "    shutil.copyfile(os.path.join('../data/project3/data_all_modified/no_damage', p), os.path.join(\"../data/project3/data_all_modified/data_split/train/no_damage\", p) )\n",
    "\n",
    "for p in test_no_damage_paths:\n",
    "    shutil.copyfile(os.path.join('../data/project3/data_all_modified/no_damage', p), os.path.join(\"../data/project3/data_all_modified/data_split/test/no_damage\", p) )\n",
    "\n",
    "# check counts:\n",
    "print(\"Files in train/damage: \", len(os.listdir(\"../data/project3/data_all_modified/data_split/train/damage\")))\n",
    "print(\"Files in train/no_damage: \", len(os.listdir(\"../data/project3/data_all_modified/data_split/test/damage\")))\n",
    "\n",
    "print(\"Files in test/damage: \", len(os.listdir(\"../data/project3/data_all_modified/data_split/train/no_damage\")))\n",
    "print(\"Files in test/no_damage: \", len(os.listdir(\"../data/project3/data_all_modified/data_split/test/no_damage\")))"
   ]
  },
  {
   "cell_type": "markdown",
   "id": "020df377-ec38-40f6-b202-1ec305412c57",
   "metadata": {},
   "source": [
    "## Data Pre-Processing"
   ]
  },
  {
   "cell_type": "code",
   "execution_count": 6,
   "id": "2f11d8a3-9af2-4183-a751-6e4d9e4f35ef",
   "metadata": {},
   "outputs": [],
   "source": [
    "# Using PIL to get image dimensions\n",
    "# Chat GPT helped in debugging the check image size function, especially with adding the dimensions to storage\n",
    "from PIL import Image\n",
    "\n",
    "def get_image_dimensions(image_path: str):\n",
    "    '''\n",
    "    Gets image dimensions through the input of a directory\n",
    "\n",
    "    Input: Takes string input of the directory path to an image\n",
    "\n",
    "    Output: Returns image dimensions of height & width pixels\n",
    "    '''\n",
    "    try:\n",
    "        with Image.open(image_path) as img:\n",
    "            width, height = img.size\n",
    "            return width, height\n",
    "    except Exception as e:\n",
    "        print(f\"Error processing image {image_path}: {e}\")\n",
    "        return None\n",
    "\n",
    "def check_images_same_size(directory: str):\n",
    "    '''\n",
    "    Ensures that all images within a directory are the same size\n",
    "\n",
    "    Input: Takes a string input of the desired directory to be check\n",
    "\n",
    "    Output: Prints a statement stating images are the same size & their dimensions,\n",
    "            or prints that the images have different sizes, or that there werent any valid images in\n",
    "            the directory.\n",
    "    '''\n",
    "    dimensions_set = set()  # To store unique dimensions of images\n",
    "    for filename in os.listdir(directory):\n",
    "        if filename.endswith(\".jpeg\"):\n",
    "            image_path = os.path.join(directory, filename)\n",
    "            dimensions = get_image_dimensions(image_path)\n",
    "            if dimensions:\n",
    "                dimensions_set.add(dimensions)\n",
    "\n",
    "    if len(dimensions_set) == 1:\n",
    "        dimensions = dimensions_set.pop()\n",
    "        print(\"All images are the same size.\")\n",
    "        print(f\"Image dimensions: {dimensions[0]}x{dimensions[1]} pixels\")\n",
    "    elif len(dimensions_set) > 1:\n",
    "        print(\"Images have different sizes.\")\n",
    "    else:\n",
    "        print(\"No valid images found in the directory.\")"
   ]
  },
  {
   "cell_type": "code",
   "execution_count": 7,
   "id": "8e41c0d6-40ad-49b9-904b-bfbcc8ac4101",
   "metadata": {},
   "outputs": [
    {
     "name": "stdout",
     "output_type": "stream",
     "text": [
      "All images are the same size.\n",
      "Image dimensions: 128x128 pixels\n",
      "All images are the same size.\n",
      "Image dimensions: 128x128 pixels\n"
     ]
    }
   ],
   "source": [
    "train_data_dmg = '../data/project3/data_all_modified/data_split/train/damage'\n",
    "train_data_no_dmg = '../data/project3/data_all_modified/data_split/train/no_damage'\n",
    "check_images_same_size(train_data_dmg)\n",
    "check_images_same_size(train_data_no_dmg)"
   ]
  },
  {
   "cell_type": "code",
   "execution_count": 8,
   "id": "a697725e-bcfa-42ac-87e6-79bd05113742",
   "metadata": {
    "scrolled": true
   },
   "outputs": [],
   "source": [
    "#pip install tensorflow_datasets --user"
   ]
  },
  {
   "cell_type": "code",
   "execution_count": 9,
   "id": "00d20515-2474-4ff5-8f16-d97e5976d887",
   "metadata": {},
   "outputs": [
    {
     "name": "stdout",
     "output_type": "stream",
     "text": [
      "Found 17057 files belonging to 2 classes.\n",
      "Using 13646 files for training.\n",
      "Using 3411 files for validation.\n"
     ]
    }
   ],
   "source": [
    "import tensorflow as tf\n",
    "import tensorflow_datasets as tfds\n",
    "from keras import layers, models, optimizers\n",
    "from tensorflow.keras.layers.experimental.preprocessing import Rescaling\n",
    "# Now that we know the image dimensions\n",
    "train_data_dir = '../data/project3/data_all_modified/data_split/train'\n",
    "# Number of images we want to process at once\n",
    "batch_size = 64\n",
    "\n",
    "# Target image size (128 px by 128 px)\n",
    "img_height = 128\n",
    "img_width = 128\n",
    "train_ds, val_ds = tf.keras.utils.image_dataset_from_directory(\n",
    "train_data_dir,\n",
    "validation_split=0.2,\n",
    "subset=\"both\",\n",
    "seed=123,\n",
    "image_size=(img_height, img_width),\n",
    "batch_size=batch_size\n",
    ")\n",
    "rescale = Rescaling(scale=1.0/255)\n",
    "train_rescale_ds = train_ds.map(lambda image,label:(rescale(image),label))\n",
    "val_rescale_ds = val_ds.map(lambda image,label:(rescale(image),label))"
   ]
  },
  {
   "cell_type": "code",
   "execution_count": 10,
   "id": "1de8e28e-3d39-4464-bb90-c8005ff2a815",
   "metadata": {},
   "outputs": [
    {
     "name": "stdout",
     "output_type": "stream",
     "text": [
      "Found 4265 files belonging to 2 classes.\n"
     ]
    }
   ],
   "source": [
    "test_data_dir = '../data/project3/data_all_modified/data_split/test'\n",
    "\n",
    "batch_size = 2\n",
    "\n",
    "img_height = 128\n",
    "img_width = 128\n",
    "\n",
    "# note that subset=\"training\", \"validation\", \"both\", and dictates what is returned\n",
    "test_ds = tf.keras.utils.image_dataset_from_directory(\n",
    "test_data_dir,\n",
    "seed=123,\n",
    "image_size=(img_height, img_width),\n",
    ")\n",
    "\n",
    "rescale = Rescaling(scale=1.0/255)\n",
    "test_rescale_ds = test_ds.map(lambda image,label:(rescale(image),label))"
   ]
  },
  {
   "cell_type": "markdown",
   "id": "8e636d5c-d902-4ed8-8cf1-75e04f1dfcd9",
   "metadata": {},
   "source": [
    "## A Dense ANN Model"
   ]
  },
  {
   "cell_type": "code",
   "execution_count": 11,
   "id": "d86299ce-91a1-4d48-afd3-47d513bcbb27",
   "metadata": {},
   "outputs": [],
   "source": [
    "# Building a CNN with 3 alternating convolutional layers & pooling layers\n",
    "# with 2 dense hidden layers. Output layer has 3 classes & softmax activation\n",
    "\n",
    "dimen = img_height * img_width * 3\n",
    "\n",
    "# initialize sequential model\n",
    "model_ann = models.Sequential()\n",
    "\n",
    "# Flattening of input data for the dense layers\n",
    "model_ann.add(layers.Flatten(input_shape = (img_height,img_width,3)))\n",
    "\n",
    "# Adding inital dense layer with 256 perceptrons\n",
    "model_ann.add(layers.Dense(256, activation = 'relu'))\n",
    "\n",
    "# Adding a fully connected dense layer with 128 perceptrons\n",
    "model_ann.add(layers.Dense(128, activation='relu'))\n",
    "\n",
    "# Adding a fully connected dense layer with 64 perceptrons\n",
    "model_ann.add(layers.Dense(64, activation='relu'))\n",
    "\n",
    "# Adding a fully connected dense layer with 32 perceptrons\n",
    "model_ann.add(layers.Dense(32, activation='relu'))\n",
    "\n",
    "# Adding a fully connected dense layer with 16 perceptrons\n",
    "model_ann.add(layers.Dense(16, activation='relu'))\n",
    "\n",
    "# Adding a fully connected dense layer with 8 perceptrons\n",
    "model_ann.add(layers.Dense(8, activation='relu'))\n",
    "\n",
    "# Adding the output layer with 2 neuron and \n",
    "# activation functions as sigmoid since this is a binary classification problem\n",
    "model_ann.add(layers.Dense(2, activation='sigmoid'))"
   ]
  },
  {
   "cell_type": "code",
   "execution_count": 12,
   "id": "6d8e88ec-ffb2-4952-a66f-6e8d5e501a04",
   "metadata": {},
   "outputs": [
    {
     "name": "stdout",
     "output_type": "stream",
     "text": [
      "Model: \"sequential\"\n",
      "_________________________________________________________________\n",
      " Layer (type)                Output Shape              Param #   \n",
      "=================================================================\n",
      " flatten (Flatten)           (None, 49152)             0         \n",
      "                                                                 \n",
      " dense (Dense)               (None, 256)               12583168  \n",
      "                                                                 \n",
      " dense_1 (Dense)             (None, 128)               32896     \n",
      "                                                                 \n",
      " dense_2 (Dense)             (None, 64)                8256      \n",
      "                                                                 \n",
      " dense_3 (Dense)             (None, 32)                2080      \n",
      "                                                                 \n",
      " dense_4 (Dense)             (None, 16)                528       \n",
      "                                                                 \n",
      " dense_5 (Dense)             (None, 8)                 136       \n",
      "                                                                 \n",
      " dense_6 (Dense)             (None, 2)                 18        \n",
      "                                                                 \n",
      "=================================================================\n",
      "Total params: 12627082 (48.17 MB)\n",
      "Trainable params: 12627082 (48.17 MB)\n",
      "Non-trainable params: 0 (0.00 Byte)\n",
      "_________________________________________________________________\n"
     ]
    }
   ],
   "source": [
    "# Compile model\n",
    "# RMSprop (Root Mean Square Propagation) is commonly used in training deep neural networks.\n",
    "model_ann.compile(optimizer=optimizers.RMSprop(learning_rate=1e-4), \n",
    "                  loss='sparse_categorical_crossentropy', \n",
    "                  metrics=['accuracy'])\n",
    "\n",
    "# Generating the summary of the model\n",
    "model_ann.summary()"
   ]
  },
  {
   "cell_type": "code",
   "execution_count": 13,
   "id": "94882936-3220-4c4c-be23-d4d6110a5166",
   "metadata": {},
   "outputs": [
    {
     "name": "stdout",
     "output_type": "stream",
     "text": [
      "Epoch 1/30\n",
      "214/214 [==============================] - 16s 68ms/step - loss: 0.6419 - accuracy: 0.6637 - val_loss: 0.6514 - val_accuracy: 0.6681\n",
      "Epoch 2/30\n",
      "214/214 [==============================] - 16s 74ms/step - loss: 0.6215 - accuracy: 0.6637 - val_loss: 0.6682 - val_accuracy: 0.6681\n",
      "Epoch 3/30\n",
      "214/214 [==============================] - 17s 77ms/step - loss: 0.6042 - accuracy: 0.6637 - val_loss: 0.6163 - val_accuracy: 0.6681\n",
      "Epoch 4/30\n",
      "214/214 [==============================] - 16s 74ms/step - loss: 0.5937 - accuracy: 0.6637 - val_loss: 0.5768 - val_accuracy: 0.6681\n",
      "Epoch 5/30\n",
      "214/214 [==============================] - 16s 73ms/step - loss: 0.5865 - accuracy: 0.6637 - val_loss: 0.6145 - val_accuracy: 0.6681\n",
      "Epoch 6/30\n",
      "214/214 [==============================] - 16s 75ms/step - loss: 0.5838 - accuracy: 0.6877 - val_loss: 0.5954 - val_accuracy: 0.6746\n",
      "Epoch 7/30\n",
      "214/214 [==============================] - 16s 75ms/step - loss: 0.5802 - accuracy: 0.7214 - val_loss: 0.5669 - val_accuracy: 0.7309\n",
      "Epoch 8/30\n",
      "214/214 [==============================] - 16s 73ms/step - loss: 0.5750 - accuracy: 0.7201 - val_loss: 0.5859 - val_accuracy: 0.7112\n",
      "Epoch 9/30\n",
      "214/214 [==============================] - 17s 77ms/step - loss: 0.5722 - accuracy: 0.7248 - val_loss: 0.5825 - val_accuracy: 0.6945\n",
      "Epoch 10/30\n",
      "214/214 [==============================] - 16s 75ms/step - loss: 0.5639 - accuracy: 0.7294 - val_loss: 0.6196 - val_accuracy: 0.6857\n",
      "Epoch 11/30\n",
      "214/214 [==============================] - 16s 76ms/step - loss: 0.5621 - accuracy: 0.7291 - val_loss: 0.5862 - val_accuracy: 0.6983\n",
      "Epoch 12/30\n",
      "214/214 [==============================] - 17s 81ms/step - loss: 0.5554 - accuracy: 0.7295 - val_loss: 0.6207 - val_accuracy: 0.6400\n",
      "Epoch 13/30\n",
      "214/214 [==============================] - 16s 76ms/step - loss: 0.5506 - accuracy: 0.7363 - val_loss: 0.5597 - val_accuracy: 0.7162\n",
      "Epoch 14/30\n",
      "214/214 [==============================] - 16s 75ms/step - loss: 0.5457 - accuracy: 0.7384 - val_loss: 0.5440 - val_accuracy: 0.7423\n",
      "Epoch 15/30\n",
      "214/214 [==============================] - 17s 78ms/step - loss: 0.5425 - accuracy: 0.7393 - val_loss: 0.8346 - val_accuracy: 0.4620\n",
      "Epoch 16/30\n",
      "214/214 [==============================] - 16s 76ms/step - loss: 0.5421 - accuracy: 0.7374 - val_loss: 0.7493 - val_accuracy: 0.6819\n",
      "Epoch 17/30\n",
      "214/214 [==============================] - 16s 75ms/step - loss: 0.5389 - accuracy: 0.7412 - val_loss: 0.6410 - val_accuracy: 0.6889\n",
      "Epoch 18/30\n",
      "214/214 [==============================] - 16s 76ms/step - loss: 0.5386 - accuracy: 0.7419 - val_loss: 0.5350 - val_accuracy: 0.7490\n",
      "Epoch 19/30\n",
      "214/214 [==============================] - 17s 79ms/step - loss: 0.5335 - accuracy: 0.7479 - val_loss: 0.6393 - val_accuracy: 0.6406\n",
      "Epoch 20/30\n",
      "214/214 [==============================] - 17s 78ms/step - loss: 0.5324 - accuracy: 0.7457 - val_loss: 0.5409 - val_accuracy: 0.7426\n",
      "Epoch 21/30\n",
      "214/214 [==============================] - 17s 78ms/step - loss: 0.5308 - accuracy: 0.7445 - val_loss: 0.7636 - val_accuracy: 0.5280\n",
      "Epoch 22/30\n",
      "214/214 [==============================] - 17s 78ms/step - loss: 0.5243 - accuracy: 0.7484 - val_loss: 0.5537 - val_accuracy: 0.7250\n",
      "Epoch 23/30\n",
      "214/214 [==============================] - 17s 78ms/step - loss: 0.5248 - accuracy: 0.7548 - val_loss: 0.5340 - val_accuracy: 0.7493\n",
      "Epoch 24/30\n",
      "214/214 [==============================] - 17s 78ms/step - loss: 0.5241 - accuracy: 0.7516 - val_loss: 0.5637 - val_accuracy: 0.7435\n",
      "Epoch 25/30\n",
      "214/214 [==============================] - 17s 77ms/step - loss: 0.5165 - accuracy: 0.7547 - val_loss: 0.5378 - val_accuracy: 0.7482\n",
      "Epoch 26/30\n",
      "214/214 [==============================] - 17s 79ms/step - loss: 0.5176 - accuracy: 0.7555 - val_loss: 0.5190 - val_accuracy: 0.7643\n",
      "Epoch 27/30\n",
      "214/214 [==============================] - 17s 79ms/step - loss: 0.5140 - accuracy: 0.7546 - val_loss: 0.5131 - val_accuracy: 0.7587\n",
      "Epoch 28/30\n",
      "214/214 [==============================] - 17s 79ms/step - loss: 0.5070 - accuracy: 0.7610 - val_loss: 0.5543 - val_accuracy: 0.7282\n",
      "Epoch 29/30\n",
      "214/214 [==============================] - 18s 82ms/step - loss: 0.5078 - accuracy: 0.7619 - val_loss: 0.8090 - val_accuracy: 0.6802\n",
      "Epoch 30/30\n",
      "214/214 [==============================] - 17s 80ms/step - loss: 0.5072 - accuracy: 0.7592 - val_loss: 0.6405 - val_accuracy: 0.7238\n"
     ]
    }
   ],
   "source": [
    "#fit the model from image generator\n",
    "history = model_ann.fit(\n",
    "            train_rescale_ds,\n",
    "            batch_size=64,\n",
    "            epochs= 30,\n",
    "            validation_data=val_rescale_ds\n",
    ")"
   ]
  },
  {
   "cell_type": "code",
   "execution_count": 14,
   "id": "0a39d601-04b7-47f7-9f01-13036ab95e32",
   "metadata": {},
   "outputs": [
    {
     "name": "stdout",
     "output_type": "stream",
     "text": [
      "Test Loss: 0.6389994621276855\n",
      "Test Accuracy: 0.7193434834480286\n"
     ]
    }
   ],
   "source": [
    "test_loss, test_accuracy = model_ann.evaluate(test_rescale_ds, verbose = 0)\n",
    "# validation accuracy\n",
    "print(f'Test Loss: {test_loss}')\n",
    "# test accuracy\n",
    "print(f'Test Accuracy: {test_accuracy}')"
   ]
  },
  {
   "cell_type": "code",
   "execution_count": 31,
   "id": "b299a157-18e0-4178-a870-8fcaf9b1cc59",
   "metadata": {},
   "outputs": [
    {
     "data": {
      "image/png": "[encoded data removed]",
      "text/plain": [
       "<Figure size 640x480 with 1 Axes>"
      ]
     },
     "metadata": {},
     "output_type": "display_data"
    }
   ],
   "source": [
    "import matplotlib.pyplot as plt\n",
    "\n",
    "# Plotting training and validation accuracy\n",
    "plt.plot(history.history['accuracy'], label='Training Accuracy')\n",
    "plt.plot(history.history['val_accuracy'], label='Validation Accuracy')\n",
    "plt.xlabel('Epoch')\n",
    "plt.ylabel('Accuracy')\n",
    "plt.title('Training and Validation Accuracy')\n",
    "plt.legend()\n",
    "plt.show()"
   ]
  },
  {
   "cell_type": "markdown",
   "id": "453435fa-8a9e-46df-8cf7-78c24ffc69f7",
   "metadata": {},
   "source": [
    "## LeNet-5 Architecture"
   ]
  },
  {
   "cell_type": "code",
   "execution_count": 16,
   "id": "b3a3d7a3-140d-47c2-9ad3-47cd4473c26c",
   "metadata": {},
   "outputs": [
    {
     "name": "stdout",
     "output_type": "stream",
     "text": [
      "Model: \"sequential_1\"\n",
      "_________________________________________________________________\n",
      " Layer (type)                Output Shape              Param #   \n",
      "=================================================================\n",
      " conv2d (Conv2D)             (None, 126, 126, 6)       168       \n",
      "                                                                 \n",
      " average_pooling2d (Average  (None, 63, 63, 6)         0         \n",
      " Pooling2D)                                                      \n",
      "                                                                 \n",
      " conv2d_1 (Conv2D)           (None, 61, 61, 16)        880       \n",
      "                                                                 \n",
      " average_pooling2d_1 (Avera  (None, 30, 30, 16)        0         \n",
      " gePooling2D)                                                    \n",
      "                                                                 \n",
      " flatten_1 (Flatten)         (None, 14400)             0         \n",
      "                                                                 \n",
      " dense_7 (Dense)             (None, 120)               1728120   \n",
      "                                                                 \n",
      " dense_8 (Dense)             (None, 84)                10164     \n",
      "                                                                 \n",
      " dense_9 (Dense)             (None, 2)                 170       \n",
      "                                                                 \n",
      "=================================================================\n",
      "Total params: 1739502 (6.64 MB)\n",
      "Trainable params: 1739502 (6.64 MB)\n",
      "Non-trainable params: 0 (0.00 Byte)\n",
      "_________________________________________________________________\n"
     ]
    }
   ],
   "source": [
    "model_lenet5 = models.Sequential()\n",
    "\n",
    "# Layer 1: Convolutional layer with 6 filters of size 3x3, followed by average pooling\n",
    "model_lenet5.add(layers.Conv2D(6, kernel_size=(3, 3), activation='relu', input_shape=(img_height,img_width,3)))\n",
    "model_lenet5.add(layers.AveragePooling2D(pool_size=(2, 2)))\n",
    "\n",
    "# Layer 2: Convolutional layer with 16 filters of size 3x3, followed by average pooling\n",
    "model_lenet5.add(layers.Conv2D(16, kernel_size=(3, 3), activation='relu'))\n",
    "model_lenet5.add(layers.AveragePooling2D(pool_size=(2, 2)))\n",
    "\n",
    "# Flatten the feature maps to feed into fully connected layers\n",
    "model_lenet5.add(layers.Flatten())\n",
    "\n",
    "# Layer 3: Fully connected layer with 120 neurons\n",
    "model_lenet5.add(layers.Dense(120, activation='relu'))\n",
    "\n",
    "# Layer 4: Fully connected layer with 84 neurons\n",
    "model_lenet5.add(layers.Dense(84, activation='relu'))\n",
    "\n",
    "# Output layer: Fully connected layer with num_classes neurons (e.g., 1 )\n",
    "model_lenet5.add(layers.Dense(2, activation='sigmoid'))\n",
    "\n",
    "# Compile model\n",
    "model_lenet5.compile(optimizer=optimizers.RMSprop(learning_rate=1e-4), \n",
    "                     loss='sparse_categorical_crossentropy', \n",
    "                     metrics=['accuracy'])\n",
    "\n",
    "# Generating the summary of the model\n",
    "model_lenet5.summary()"
   ]
  },
  {
   "cell_type": "code",
   "execution_count": 17,
   "id": "732338a1-fed3-4996-ac00-c4c5d1a2772d",
   "metadata": {},
   "outputs": [
    {
     "name": "stdout",
     "output_type": "stream",
     "text": [
      "Epoch 1/30\n",
      "214/214 [==============================] - 23s 102ms/step - loss: 0.6338 - accuracy: 0.6662 - val_loss: 0.6282 - val_accuracy: 0.7291\n",
      "Epoch 2/30\n",
      "214/214 [==============================] - 21s 100ms/step - loss: 0.5841 - accuracy: 0.7083 - val_loss: 0.6103 - val_accuracy: 0.6737\n",
      "Epoch 3/30\n",
      "214/214 [==============================] - 21s 99ms/step - loss: 0.5341 - accuracy: 0.7465 - val_loss: 0.6334 - val_accuracy: 0.6834\n",
      "Epoch 4/30\n",
      "214/214 [==============================] - 21s 99ms/step - loss: 0.4929 - accuracy: 0.7854 - val_loss: 0.4770 - val_accuracy: 0.7704\n",
      "Epoch 5/30\n",
      "214/214 [==============================] - 22s 102ms/step - loss: 0.4647 - accuracy: 0.8025 - val_loss: 0.4469 - val_accuracy: 0.7992\n",
      "Epoch 6/30\n",
      "214/214 [==============================] - 21s 99ms/step - loss: 0.4484 - accuracy: 0.8134 - val_loss: 0.4570 - val_accuracy: 0.7883\n",
      "Epoch 7/30\n",
      "214/214 [==============================] - 21s 100ms/step - loss: 0.4336 - accuracy: 0.8203 - val_loss: 0.3963 - val_accuracy: 0.8452\n",
      "Epoch 8/30\n",
      "214/214 [==============================] - 21s 99ms/step - loss: 0.4145 - accuracy: 0.8339 - val_loss: 0.5487 - val_accuracy: 0.7488\n",
      "Epoch 9/30\n",
      "214/214 [==============================] - 21s 100ms/step - loss: 0.4052 - accuracy: 0.8439 - val_loss: 0.3822 - val_accuracy: 0.8452\n",
      "Epoch 10/30\n",
      "214/214 [==============================] - 21s 100ms/step - loss: 0.3921 - accuracy: 0.8478 - val_loss: 0.3641 - val_accuracy: 0.8648\n",
      "Epoch 11/30\n",
      "214/214 [==============================] - 22s 101ms/step - loss: 0.3811 - accuracy: 0.8517 - val_loss: 0.4976 - val_accuracy: 0.7790\n",
      "Epoch 12/30\n",
      "214/214 [==============================] - 22s 103ms/step - loss: 0.3670 - accuracy: 0.8592 - val_loss: 0.4145 - val_accuracy: 0.8414\n",
      "Epoch 13/30\n",
      "214/214 [==============================] - 22s 104ms/step - loss: 0.3492 - accuracy: 0.8652 - val_loss: 0.3571 - val_accuracy: 0.8678\n",
      "Epoch 14/30\n",
      "214/214 [==============================] - 22s 100ms/step - loss: 0.3317 - accuracy: 0.8746 - val_loss: 0.3012 - val_accuracy: 0.8889\n",
      "Epoch 15/30\n",
      "214/214 [==============================] - 22s 100ms/step - loss: 0.3105 - accuracy: 0.8838 - val_loss: 0.2815 - val_accuracy: 0.8953\n",
      "Epoch 16/30\n",
      "214/214 [==============================] - 22s 100ms/step - loss: 0.2849 - accuracy: 0.8967 - val_loss: 0.2627 - val_accuracy: 0.9041\n",
      "Epoch 17/30\n",
      "214/214 [==============================] - 22s 100ms/step - loss: 0.2695 - accuracy: 0.9009 - val_loss: 0.2481 - val_accuracy: 0.9068\n",
      "Epoch 18/30\n",
      "214/214 [==============================] - 22s 100ms/step - loss: 0.2506 - accuracy: 0.9065 - val_loss: 0.3361 - val_accuracy: 0.8692\n",
      "Epoch 19/30\n",
      "214/214 [==============================] - 22s 100ms/step - loss: 0.2393 - accuracy: 0.9115 - val_loss: 0.2281 - val_accuracy: 0.9153\n",
      "Epoch 20/30\n",
      "214/214 [==============================] - 21s 100ms/step - loss: 0.2279 - accuracy: 0.9137 - val_loss: 0.2497 - val_accuracy: 0.9027\n",
      "Epoch 21/30\n",
      "214/214 [==============================] - 22s 102ms/step - loss: 0.2186 - accuracy: 0.9157 - val_loss: 0.2286 - val_accuracy: 0.9103\n",
      "Epoch 22/30\n",
      "214/214 [==============================] - 22s 101ms/step - loss: 0.2114 - accuracy: 0.9196 - val_loss: 0.3087 - val_accuracy: 0.8783\n",
      "Epoch 23/30\n",
      "214/214 [==============================] - 22s 100ms/step - loss: 0.2029 - accuracy: 0.9239 - val_loss: 0.2013 - val_accuracy: 0.9258\n",
      "Epoch 24/30\n",
      "214/214 [==============================] - 21s 100ms/step - loss: 0.1946 - accuracy: 0.9240 - val_loss: 0.1952 - val_accuracy: 0.9291\n",
      "Epoch 25/30\n",
      "214/214 [==============================] - 22s 101ms/step - loss: 0.1861 - accuracy: 0.9294 - val_loss: 0.2485 - val_accuracy: 0.9050\n",
      "Epoch 26/30\n",
      "214/214 [==============================] - 22s 101ms/step - loss: 0.1767 - accuracy: 0.9314 - val_loss: 0.1959 - val_accuracy: 0.9247\n",
      "Epoch 27/30\n",
      "214/214 [==============================] - 21s 100ms/step - loss: 0.1707 - accuracy: 0.9349 - val_loss: 0.2331 - val_accuracy: 0.9065\n",
      "Epoch 28/30\n",
      "214/214 [==============================] - 22s 101ms/step - loss: 0.1636 - accuracy: 0.9376 - val_loss: 0.2152 - val_accuracy: 0.9170\n",
      "Epoch 29/30\n",
      "214/214 [==============================] - 22s 102ms/step - loss: 0.1568 - accuracy: 0.9390 - val_loss: 0.1900 - val_accuracy: 0.9267\n",
      "Epoch 30/30\n",
      "214/214 [==============================] - 22s 104ms/step - loss: 0.1461 - accuracy: 0.9451 - val_loss: 0.2483 - val_accuracy: 0.9038\n"
     ]
    }
   ],
   "source": [
    "history2 = model_lenet5.fit(\n",
    "            train_rescale_ds,\n",
    "            batch_size=64,\n",
    "            epochs=30,\n",
    "            validation_data=val_rescale_ds\n",
    ")"
   ]
  },
  {
   "cell_type": "code",
   "execution_count": 18,
   "id": "af0de671-fb84-41e0-afa1-7ae95de50dad",
   "metadata": {},
   "outputs": [
    {
     "name": "stdout",
     "output_type": "stream",
     "text": [
      "Test Loss: 0.23854883015155792\n",
      "Test Accuracy: 0.9005861878395081\n"
     ]
    }
   ],
   "source": [
    "test_loss, test_accuracy = model_lenet5.evaluate(test_rescale_ds, verbose = 0)\n",
    "# validation accuracy\n",
    "print(f'Test Loss: {test_loss}')\n",
    "# test accuracy\n",
    "print(f'Test Accuracy: {test_accuracy}')"
   ]
  },
  {
   "cell_type": "code",
   "execution_count": 30,
   "id": "47ab375d-c03d-4ef8-b0a2-9bc23f237f62",
   "metadata": {},
   "outputs": [
    {
     "data": {
      "image/png": "[encoded data removed]",
      "text/plain": [
       "<Figure size 640x480 with 1 Axes>"
      ]
     },
     "metadata": {},
     "output_type": "display_data"
    }
   ],
   "source": [
    "import matplotlib.pyplot as plt\n",
    "\n",
    "# Plotting training and validation accuracy\n",
    "plt.plot(history2.history['accuracy'], label='Training Accuracy')\n",
    "plt.plot(history2.history['val_accuracy'], label='Validation Accuracy')\n",
    "plt.xlabel('Epoch')\n",
    "plt.ylabel('Accuracy')\n",
    "plt.title('Training and Validation Accuracy')\n",
    "plt.legend()\n",
    "plt.show()"
   ]
  },
  {
   "cell_type": "markdown",
   "id": "1edc1cb8-f3a1-4c00-973c-f57d70afd4c8",
   "metadata": {},
   "source": [
    "## Modified LeNet-5"
   ]
  },
  {
   "cell_type": "code",
   "execution_count": 22,
   "id": "337ad6a2-d07b-4f00-9af1-45bd2b547c0b",
   "metadata": {
    "scrolled": true
   },
   "outputs": [
    {
     "name": "stdout",
     "output_type": "stream",
     "text": [
      "Model: \"sequential_3\"\n",
      "_________________________________________________________________\n",
      " Layer (type)                Output Shape              Param #   \n",
      "=================================================================\n",
      " conv2d_7 (Conv2D)           (None, 126, 126, 6)       168       \n",
      "                                                                 \n",
      " max_pooling2d_5 (MaxPoolin  (None, 63, 63, 6)         0         \n",
      " g2D)                                                            \n",
      "                                                                 \n",
      " conv2d_8 (Conv2D)           (None, 61, 61, 32)        1760      \n",
      "                                                                 \n",
      " max_pooling2d_6 (MaxPoolin  (None, 30, 30, 32)        0         \n",
      " g2D)                                                            \n",
      "                                                                 \n",
      " conv2d_9 (Conv2D)           (None, 28, 28, 64)        18496     \n",
      "                                                                 \n",
      " max_pooling2d_7 (MaxPoolin  (None, 14, 14, 64)        0         \n",
      " g2D)                                                            \n",
      "                                                                 \n",
      " conv2d_10 (Conv2D)          (None, 12, 12, 128)       73856     \n",
      "                                                                 \n",
      " max_pooling2d_8 (MaxPoolin  (None, 6, 6, 128)         0         \n",
      " g2D)                                                            \n",
      "                                                                 \n",
      " conv2d_11 (Conv2D)          (None, 4, 4, 128)         147584    \n",
      "                                                                 \n",
      " max_pooling2d_9 (MaxPoolin  (None, 2, 2, 128)         0         \n",
      " g2D)                                                            \n",
      "                                                                 \n",
      " flatten_3 (Flatten)         (None, 512)               0         \n",
      "                                                                 \n",
      " dropout_1 (Dropout)         (None, 512)               0         \n",
      "                                                                 \n",
      " dense_13 (Dense)            (None, 512)               262656    \n",
      "                                                                 \n",
      " dense_14 (Dense)            (None, 2)                 1026      \n",
      "                                                                 \n",
      "=================================================================\n",
      "Total params: 505546 (1.93 MB)\n",
      "Trainable params: 505546 (1.93 MB)\n",
      "Non-trainable params: 0 (0.00 Byte)\n",
      "_________________________________________________________________\n"
     ]
    }
   ],
   "source": [
    "from keras import layers\n",
    "from keras import models\n",
    "import pandas as pd\n",
    "\n",
    "model_mod_lenet5 = models.Sequential()\n",
    "# Layer 1: Convolutional layer with 6 filters of size 3x3, followed by Max pooling\n",
    "model_mod_lenet5.add(layers.Conv2D(6, kernel_size=(3, 3), activation='relu', input_shape=(img_height,img_width,3)))\n",
    "model_mod_lenet5.add(layers.MaxPooling2D(pool_size=(2, 2)))\n",
    "# Layer 2: Convolutional layer with 32 filters of size 3x3, followed by Max pooling\n",
    "model_mod_lenet5.add(layers.Conv2D(32, kernel_size=(3, 3), activation='relu', input_shape=(img_height,img_width,3)))\n",
    "model_mod_lenet5.add(layers.MaxPooling2D(pool_size=(2, 2)))\n",
    "# Layer 3: Convolutional layer with 64 filters of size 3x3, followed by Max pooling\n",
    "model_mod_lenet5.add(layers.Conv2D(64, kernel_size=(3, 3), activation='relu', input_shape=(img_height,img_width,3)))\n",
    "model_mod_lenet5.add(layers.MaxPooling2D(pool_size=(2, 2)))\n",
    "# Layer 4: Convolutional layer with 128 filters of size 3x3, followed by Max pooling\n",
    "model_mod_lenet5.add(layers.Conv2D(128, kernel_size=(3, 3), activation='relu', input_shape=(img_height,img_width,3)))\n",
    "model_mod_lenet5.add(layers.MaxPooling2D(pool_size=(2, 2)))\n",
    "# Layer 5: Convolutional layer with 128 filters of size 3x3, followed by Max pooling\n",
    "model_mod_lenet5.add(layers.Conv2D(128, kernel_size=(3, 3), activation='relu', input_shape=(img_height,img_width,3)))\n",
    "model_mod_lenet5.add(layers.MaxPooling2D(pool_size=(2, 2)))\n",
    "# flattening the output of the conv layer after max pooling \n",
    "model_mod_lenet5.add(layers.Flatten())\n",
    "#Dropout Layer\n",
    "model_mod_lenet5.add(layers.Dropout(0.2))\n",
    "# Layer 8: Fully connected layer with 120 neurons\n",
    "model_mod_lenet5.add(layers.Dense(512, activation='relu'))\n",
    "\n",
    "model_mod_lenet5.add(layers.Dense(2, activation='sigmoid'))\n",
    "\n",
    "model_mod_lenet5.compile(optimizer=optimizers.RMSprop(learning_rate=1e-4), \n",
    "                     loss='sparse_categorical_crossentropy', \n",
    "                     metrics=['accuracy'])\n",
    "\n",
    "# Generating the summary of the model\n",
    "model_mod_lenet5.summary()"
   ]
  },
  {
   "cell_type": "code",
   "execution_count": 23,
   "id": "c3d46ddf-f1ff-4496-92bc-a475d10e2840",
   "metadata": {},
   "outputs": [
    {
     "name": "stdout",
     "output_type": "stream",
     "text": [
      "Epoch 1/30\n",
      "214/214 [==============================] - 34s 149ms/step - loss: 0.5862 - accuracy: 0.7087 - val_loss: 0.4916 - val_accuracy: 0.8218\n",
      "Epoch 2/30\n",
      "214/214 [==============================] - 31s 146ms/step - loss: 0.4681 - accuracy: 0.7947 - val_loss: 0.4194 - val_accuracy: 0.8097\n",
      "Epoch 3/30\n",
      "214/214 [==============================] - 32s 147ms/step - loss: 0.4285 - accuracy: 0.8188 - val_loss: 0.3728 - val_accuracy: 0.8414\n",
      "Epoch 4/30\n",
      "214/214 [==============================] - 32s 148ms/step - loss: 0.4003 - accuracy: 0.8312 - val_loss: 0.3535 - val_accuracy: 0.8514\n",
      "Epoch 5/30\n",
      "214/214 [==============================] - 32s 148ms/step - loss: 0.3768 - accuracy: 0.8464 - val_loss: 0.3391 - val_accuracy: 0.8558\n",
      "Epoch 6/30\n",
      "214/214 [==============================] - 32s 150ms/step - loss: 0.3564 - accuracy: 0.8519 - val_loss: 0.3349 - val_accuracy: 0.8622\n",
      "Epoch 7/30\n",
      "214/214 [==============================] - 31s 146ms/step - loss: 0.3370 - accuracy: 0.8600 - val_loss: 0.3101 - val_accuracy: 0.8745\n",
      "Epoch 8/30\n",
      "214/214 [==============================] - 31s 144ms/step - loss: 0.3184 - accuracy: 0.8685 - val_loss: 0.3912 - val_accuracy: 0.8388\n",
      "Epoch 9/30\n",
      "214/214 [==============================] - 31s 145ms/step - loss: 0.2973 - accuracy: 0.8742 - val_loss: 0.3069 - val_accuracy: 0.8651\n",
      "Epoch 10/30\n",
      "214/214 [==============================] - 31s 144ms/step - loss: 0.2789 - accuracy: 0.8842 - val_loss: 0.2430 - val_accuracy: 0.8953\n",
      "Epoch 11/30\n",
      "214/214 [==============================] - 31s 146ms/step - loss: 0.2557 - accuracy: 0.8932 - val_loss: 0.3029 - val_accuracy: 0.8728\n",
      "Epoch 12/30\n",
      "214/214 [==============================] - 31s 142ms/step - loss: 0.2402 - accuracy: 0.9009 - val_loss: 0.2276 - val_accuracy: 0.9176\n",
      "Epoch 13/30\n",
      "214/214 [==============================] - 31s 144ms/step - loss: 0.2139 - accuracy: 0.9134 - val_loss: 0.2098 - val_accuracy: 0.9162\n",
      "Epoch 14/30\n",
      "214/214 [==============================] - 31s 146ms/step - loss: 0.2007 - accuracy: 0.9184 - val_loss: 0.1745 - val_accuracy: 0.9279\n",
      "Epoch 15/30\n",
      "214/214 [==============================] - 32s 150ms/step - loss: 0.1867 - accuracy: 0.9258 - val_loss: 0.1623 - val_accuracy: 0.9337\n",
      "Epoch 16/30\n",
      "214/214 [==============================] - 31s 144ms/step - loss: 0.1747 - accuracy: 0.9304 - val_loss: 0.2198 - val_accuracy: 0.9091\n",
      "Epoch 17/30\n",
      "214/214 [==============================] - 31s 146ms/step - loss: 0.1669 - accuracy: 0.9324 - val_loss: 0.1906 - val_accuracy: 0.9326\n",
      "Epoch 18/30\n",
      "214/214 [==============================] - 31s 144ms/step - loss: 0.1565 - accuracy: 0.9368 - val_loss: 0.1747 - val_accuracy: 0.9291\n",
      "Epoch 19/30\n",
      "214/214 [==============================] - 31s 144ms/step - loss: 0.1515 - accuracy: 0.9394 - val_loss: 0.1547 - val_accuracy: 0.9408\n",
      "Epoch 20/30\n",
      "214/214 [==============================] - 31s 145ms/step - loss: 0.1434 - accuracy: 0.9423 - val_loss: 0.1375 - val_accuracy: 0.9449\n",
      "Epoch 21/30\n",
      "214/214 [==============================] - 31s 145ms/step - loss: 0.1422 - accuracy: 0.9437 - val_loss: 0.1513 - val_accuracy: 0.9355\n",
      "Epoch 22/30\n",
      "214/214 [==============================] - 32s 147ms/step - loss: 0.1337 - accuracy: 0.9462 - val_loss: 0.1477 - val_accuracy: 0.9343\n",
      "Epoch 23/30\n",
      "214/214 [==============================] - 32s 147ms/step - loss: 0.1262 - accuracy: 0.9509 - val_loss: 0.1819 - val_accuracy: 0.9299\n",
      "Epoch 24/30\n",
      "214/214 [==============================] - 31s 142ms/step - loss: 0.1218 - accuracy: 0.9530 - val_loss: 0.1436 - val_accuracy: 0.9428\n",
      "Epoch 25/30\n",
      "214/214 [==============================] - 31s 144ms/step - loss: 0.1203 - accuracy: 0.9519 - val_loss: 0.1195 - val_accuracy: 0.9507\n",
      "Epoch 26/30\n",
      "214/214 [==============================] - 31s 144ms/step - loss: 0.1140 - accuracy: 0.9561 - val_loss: 0.1114 - val_accuracy: 0.9516\n",
      "Epoch 27/30\n",
      "214/214 [==============================] - 31s 146ms/step - loss: 0.1093 - accuracy: 0.9581 - val_loss: 0.1751 - val_accuracy: 0.9346\n",
      "Epoch 28/30\n",
      "214/214 [==============================] - 31s 143ms/step - loss: 0.1062 - accuracy: 0.9592 - val_loss: 0.1925 - val_accuracy: 0.9232\n",
      "Epoch 29/30\n",
      "214/214 [==============================] - 31s 142ms/step - loss: 0.1014 - accuracy: 0.9607 - val_loss: 0.1215 - val_accuracy: 0.9537\n",
      "Epoch 30/30\n",
      "214/214 [==============================] - 31s 143ms/step - loss: 0.0983 - accuracy: 0.9623 - val_loss: 0.2236 - val_accuracy: 0.9082\n"
     ]
    }
   ],
   "source": [
    "history3 = model_mod_lenet5.fit(\n",
    "            train_rescale_ds,\n",
    "            batch_size=64,\n",
    "            epochs=30,\n",
    "            validation_data=val_rescale_ds\n",
    ")"
   ]
  },
  {
   "cell_type": "code",
   "execution_count": 24,
   "id": "7cf708be-1f90-4c2d-a161-f90880de5a91",
   "metadata": {},
   "outputs": [
    {
     "name": "stdout",
     "output_type": "stream",
     "text": [
      "Test Loss: 0.20942941308021545\n",
      "Test Accuracy: 0.912309467792511\n"
     ]
    }
   ],
   "source": [
    "mod_test_loss, test_accuracy = model_mod_lenet5.evaluate(test_rescale_ds, verbose = 0)\n",
    "# validation accuracy\n",
    "print(f'Test Loss: {mod_test_loss}')\n",
    "# test accuracy\n",
    "print(f'Test Accuracy: {test_accuracy}')"
   ]
  },
  {
   "cell_type": "code",
   "execution_count": 29,
   "id": "e7bc3047-d6c8-4754-ab73-0a45ec1f5b0f",
   "metadata": {},
   "outputs": [
    {
     "data": {
      "image/png": "[encoded data removed]",
      "text/plain": [
       "<Figure size 640x480 with 1 Axes>"
      ]
     },
     "metadata": {},
     "output_type": "display_data"
    }
   ],
   "source": [
    "import matplotlib.pyplot as plt\n",
    "\n",
    "# Plotting training and validation accuracy\n",
    "plt.plot(history3.history['accuracy'], label='Training Accuracy')\n",
    "plt.plot(history3.history['val_accuracy'], label='Validation Accuracy')\n",
    "plt.xlabel('Epoch')\n",
    "plt.ylabel('Accuracy')\n",
    "plt.title('Training and Validation Accuracy')\n",
    "plt.legend()\n",
    "plt.show()"
   ]
  },
  {
   "cell_type": "code",
   "execution_count": null,
   "id": "b915d143-f46f-48bf-96e7-d261058fe1da",
   "metadata": {},
   "outputs": [],
   "source": [
    "model_mod_lenet5.save('Mod_LeNet5.keras')"
   ]
  }
 ],
 "metadata": {
  "kernelspec": {
   "display_name": "Python 3 (ipykernel)",
   "language": "python",
   "name": "python3"
  },
  "language_info": {
   "codemirror_mode": {
    "name": "ipython",
    "version": 3
   },
   "file_extension": ".py",
   "mimetype": "text/x-python",
   "name": "python",
   "nbconvert_exporter": "python",
   "pygments_lexer": "ipython3",
   "version": "3.11.1"
  }
 },
 "nbformat": 4,
 "nbformat_minor": 5
}
